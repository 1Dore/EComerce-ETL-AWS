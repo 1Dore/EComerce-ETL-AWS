{
 "cells": [
  {
   "cell_type": "markdown",
   "metadata": {},
   "source": [
    "# Imports"
   ]
  },
  {
   "cell_type": "markdown",
   "metadata": {},
   "source": [
    "# Creacion Base de Datos - MySql"
   ]
  },
  {
   "cell_type": "code",
   "execution_count": 1,
   "metadata": {},
   "outputs": [],
   "source": [
    "import boto3\n",
    "import pandas as pd\n",
    "import numpy as np\n",
    "import configparser\n",
    "import psycopg2"
   ]
  },
  {
   "cell_type": "markdown",
   "metadata": {},
   "source": [
    "## Leemos archivo de Configuracion y credenciales"
   ]
  },
  {
   "cell_type": "code",
   "execution_count": 6,
   "metadata": {},
   "outputs": [
    {
     "data": {
      "text/plain": [
       "['config.cfg']"
      ]
     },
     "execution_count": 6,
     "metadata": {},
     "output_type": "execute_result"
    }
   ],
   "source": [
    "config = configparser.ConfigParser()\n",
    "config.read(\"config.cfg\")  "
   ]
  },
  {
   "cell_type": "code",
   "execution_count": 7,
   "metadata": {},
   "outputs": [],
   "source": [
    "aws_rds_conn = boto3.client('rds', aws_access_key_id=config.get('IAM', 'ACCESS_KEY'),\n",
    "                            aws_secret_access_key=config.get('IAM', 'SECRET_KEY'),\n",
    "                            region_name=\"us-east-2\")"
   ]
  },
  {
   "cell_type": "code",
   "execution_count": 8,
   "metadata": {},
   "outputs": [
    {
     "name": "stdout",
     "output_type": "stream",
     "text": [
      "intancias disponibles: []\n"
     ]
    }
   ],
   "source": [
    "rds_intance_ids = []\n",
    "\n",
    "aws_response = aws_rds_conn.describe_db_instances()\n",
    "\n",
    "for response in aws_response['DBInstances']:\n",
    "    rds_intance_ids.append(response['DBInstancesIdentifier'])\n",
    "    \n",
    "print(f\"intancias disponibles: {rds_intance_ids}\")"
   ]
  },
  {
   "cell_type": "markdown",
   "metadata": {},
   "source": [
    "## Creamos instancia de DB - MySql"
   ]
  },
  {
   "cell_type": "code",
   "execution_count": null,
   "metadata": {},
   "outputs": [],
   "source": [
    "try:\n",
    "\n",
    "    response = aws_rds_conn.create_db_instance(\n",
    "                                                DBInstancesIdentifier=config.get('HECHOS', 'DB_INSTANCE_ID'),\n",
    "                                                DBName=config.get('HECHOS', 'DB_NAME'),\n",
    "                                                MasterUsername=config.get('HECHOS', 'DB_USERNAME'),\n",
    "                                                MasterUserPassword=config.get('HECHOS', 'DB_PASSWORD'),\n",
    "                                                Port=int(config.get('HECHOS', 'DB_PORT')),\n",
    "                                                DBInstanceClass='db.t3.micro',\n",
    "                                                Engine='mysql',\n",
    "                                                PubliclyAccessible=True,\n",
    "                                                AllocatedStorage=20,\n",
    "                                                VPcSecurityGroup=[config.get('VPC', 'SECURITY_GROUP')]\n",
    "                                                                        \n",
    "    )\n",
    "except aws_rds_conn.exceptions.DBInstanceAlreadyExistsFault:\n",
    "    print(\"La instancia ya existe\")\n",
    "    \n",
    "except Exception as e:\n",
    "    print(\"Error:\", e)"
   ]
  },
  {
   "cell_type": "markdown",
   "metadata": {},
   "source": []
  }
 ],
 "metadata": {
  "kernelspec": {
   "display_name": "Python 3",
   "language": "python",
   "name": "python3"
  },
  "language_info": {
   "codemirror_mode": {
    "name": "ipython",
    "version": 3
   },
   "file_extension": ".py",
   "mimetype": "text/x-python",
   "name": "python",
   "nbconvert_exporter": "python",
   "pygments_lexer": "ipython3",
   "version": "3.8.8"
  }
 },
 "nbformat": 4,
 "nbformat_minor": 2
}
