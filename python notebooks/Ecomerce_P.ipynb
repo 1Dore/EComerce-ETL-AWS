{
 "cells": [
  {
   "cell_type": "code",
   "execution_count": 1,
   "id": "6fa1eccd-ea14-4de4-ae18-b5620ff2df2c",
   "metadata": {},
   "outputs": [],
   "source": [
    "import pandas as pd\n",
    "import numpy as np\n",
    "import boto3\n",
    "import configparser\n",
    "import psycopg2"
   ]
  },
  {
   "cell_type": "markdown",
   "id": "d341a5b6-b245-45fa-b663-97b905787a0b",
   "metadata": {},
   "source": [
    "# Leemos archivo de configuración y credenciales"
   ]
  },
  {
   "cell_type": "code",
   "execution_count": 26,
   "id": "b91320d2-0cd5-4915-9178-f97c1ce5765a",
   "metadata": {},
   "outputs": [
    {
     "data": {
      "text/plain": [
       "['config_P.cfg']"
      ]
     },
     "execution_count": 26,
     "metadata": {},
     "output_type": "execute_result"
    }
   ],
   "source": [
    "config = configparser.ConfigParser()\n",
    "config.read('config_P.cfg')"
   ]
  },
  {
   "cell_type": "code",
   "execution_count": 25,
   "id": "bb05d65c-c8dc-4f3a-8a16-d492bcb9ffd1",
   "metadata": {},
   "outputs": [],
   "source": [
    "aws_rds_conn = boto3.client('rds', aws_access_key_id=config.get('IAM', 'ACCESS_KEY'),\n",
    "                            aws_secret_access_key=config.get('IAM', 'SECRET_KEY'),\n",
    "                            region_name='us-east-2')"
   ]
  },
  {
   "cell_type": "markdown",
   "id": "9f88c6a4-0ebd-495a-8f22-bcef7cdd6d17",
   "metadata": {},
   "source": [
    "### Verificamo instancias disponibles para el usuario"
   ]
  },
  {
   "cell_type": "code",
   "execution_count": 5,
   "id": "5c8e4732-8517-4a62-91a7-585dcfd56cba",
   "metadata": {},
   "outputs": [
    {
     "name": "stdout",
     "output_type": "stream",
     "text": [
      "Instancias Disponibles: []\n"
     ]
    }
   ],
   "source": [
    "rds_instances_ids = []\n",
    "\n",
    "aws_response = aws_rds_conn.describe_db_instances()\n",
    "\n",
    "for item in aws_response['DBInstances']:\n",
    "    rds_instances_ids.append(item['DBInstanceIdentifier'])\n",
    "    \n",
    "print(f\"Instancias disponibles: {rds_instances_ids}\")"
   ]
  },
  {
   "cell_type": "markdown",
   "id": "b39c5c6b-347e-42e1-8844-a1e4cb2906c1",
   "metadata": {},
   "source": [
    "### Creamos instancia de base de datos en AWS - Postgres"
   ]
  },
  {
   "cell_type": "code",
   "execution_count": 28,
   "id": "48fceaa6-e856-4161-9a7a-0bfba3cc98c0",
   "metadata": {},
   "outputs": [
    {
     "name": "stdout",
     "output_type": "stream",
     "text": [
      "{'DBInstance': {'DBInstanceIdentifier': 'ecomercedb', 'DBInstanceClass': 'db.t3.micro', 'Engine': 'postgres', 'DBInstanceStatus': 'creating', 'MasterUsername': 'ecomercedb', 'DBName': 'ecomerce', 'AllocatedStorage': 20, 'PreferredBackupWindow': '07:03-07:33', 'BackupRetentionPeriod': 1, 'DBSecurityGroups': [], 'VpcSecurityGroups': [{'VpcSecurityGroupId': 'sg-0c9b1d192d18c4475', 'Status': 'active'}], 'DBParameterGroups': [{'DBParameterGroupName': 'default.postgres16', 'ParameterApplyStatus': 'in-sync'}], 'DBSubnetGroup': {'DBSubnetGroupName': 'default', 'DBSubnetGroupDescription': 'default', 'VpcId': 'vpc-012c32f382ec5723b', 'SubnetGroupStatus': 'Complete', 'Subnets': [{'SubnetIdentifier': 'subnet-0c54fb3d2eb2385cb', 'SubnetAvailabilityZone': {'Name': 'us-east-2c'}, 'SubnetOutpost': {}, 'SubnetStatus': 'Active'}, {'SubnetIdentifier': 'subnet-0325c0440844b2e08', 'SubnetAvailabilityZone': {'Name': 'us-east-2b'}, 'SubnetOutpost': {}, 'SubnetStatus': 'Active'}, {'SubnetIdentifier': 'subnet-05d834b2dc430c3f0', 'SubnetAvailabilityZone': {'Name': 'us-east-2a'}, 'SubnetOutpost': {}, 'SubnetStatus': 'Active'}]}, 'PreferredMaintenanceWindow': 'sun:03:38-sun:04:08', 'PendingModifiedValues': {'MasterUserPassword': '****'}, 'MultiAZ': False, 'EngineVersion': '16.1', 'AutoMinorVersionUpgrade': True, 'ReadReplicaDBInstanceIdentifiers': [], 'LicenseModel': 'postgresql-license', 'OptionGroupMemberships': [{'OptionGroupName': 'default:postgres-16', 'Status': 'in-sync'}], 'PubliclyAccessible': True, 'StorageType': 'gp2', 'DbInstancePort': 0, 'StorageEncrypted': False, 'DbiResourceId': 'db-QHLCEZQDM7F6PVQKW3LCVFTWOE', 'CACertificateIdentifier': 'rds-ca-rsa2048-g1', 'DomainMemberships': [], 'CopyTagsToSnapshot': False, 'MonitoringInterval': 0, 'DBInstanceArn': 'arn:aws:rds:us-east-2:533267366858:db:ecomercedb', 'IAMDatabaseAuthenticationEnabled': False, 'PerformanceInsightsEnabled': False, 'DeletionProtection': False, 'AssociatedRoles': [], 'TagList': [], 'CustomerOwnedIpEnabled': False, 'BackupTarget': 'region', 'NetworkType': 'IPV4', 'StorageThroughput': 0, 'CertificateDetails': {'CAIdentifier': 'rds-ca-rsa2048-g1'}, 'DedicatedLogVolume': False}, 'ResponseMetadata': {'RequestId': '48a3fc1a-333b-4d92-bcaf-c93279f62e02', 'HTTPStatusCode': 200, 'HTTPHeaders': {'x-amzn-requestid': '48a3fc1a-333b-4d92-bcaf-c93279f62e02', 'strict-transport-security': 'max-age=31536000', 'content-type': 'text/xml', 'content-length': '3443', 'date': 'Fri, 12 Apr 2024 02:31:17 GMT'}, 'RetryAttempts': 0}}\n"
     ]
    }
   ],
   "source": [
    "try:\n",
    "    response = aws_rds_conn.create_db_instance(\n",
    "                            DBInstanceIdentifier=config.get('ECOMERCE', 'DB_INSTANCE_ID'),\n",
    "                            DBName=config.get('ECOMERCE', 'DB_NAME'),\n",
    "                            MasterUsername=config.get('ECOMERCE', 'DB_USERNAME'),\n",
    "                            MasterUserPassword=config.get('ECOMERCE', 'DB_PASSWORD'),\n",
    "                            Port=int(config.get('ECOMERCE', 'DB_PORT')),\n",
    "                            DBInstanceClass='db.t3.micro',\n",
    "                            Engine='postgres',\n",
    "                            PubliclyAccessible=True,\n",
    "                            AllocatedStorage=20,\n",
    "                            VpcSecurityGroupIds=[config.get('VPC', 'SECURITY_GROUP')]\n",
    "                        )\n",
    "    print(response)\n",
    "except aws_rds_conn.exceptions.DBInstanceAlreadyExistsFault:\n",
    "    print('La instancia ya existe')\n",
    "except Exception as ex:\n",
    "    print('Error!!!', ex)"
   ]
  },
  {
   "cell_type": "markdown",
   "id": "490b4b1c-59b0-4c5c-b789-17c1c020c45d",
   "metadata": {},
   "source": [
    "### Obtenemos el hostname de la instancia"
   ]
  },
  {
   "cell_type": "code",
   "execution_count": 31,
   "id": "7976c9e9-daf9-467f-8c2f-2407a89e2ffa",
   "metadata": {},
   "outputs": [
    {
     "name": "stdout",
     "output_type": "stream",
     "text": [
      "ecomercedb.ctiwauocyj1r.us-east-2.rds.amazonaws.com\n"
     ]
    }
   ],
   "source": [
    "try: \n",
    "    instance = aws_rds_conn.describe_db_instances(DBInstanceIdentifier=config.get('ECOMERCE','DB_INSTANCE_ID'))\n",
    "    RDS_HOSTNAME = instance.get('DBInstances')[0].get('Endpoint').get('Address')\n",
    "    print(RDS_HOSTNAME)\n",
    "except Exception as ex:\n",
    "    print('Error!!!',ex)"
   ]
  },
  {
   "cell_type": "markdown",
   "id": "89372351-2aad-4913-add3-46fbf1652e62",
   "metadata": {},
   "source": [
    "### Nos conectamos a la base de datos y creamos las tablas"
   ]
  },
  {
   "cell_type": "code",
   "execution_count": 66,
   "id": "6b6af281-1be6-43e0-aa4a-d6d52e868a91",
   "metadata": {},
   "outputs": [],
   "source": [
    "import sql_queries_P"
   ]
  },
  {
   "cell_type": "code",
   "execution_count": null,
   "id": "c4f708ad-9750-4793-af23-8b45572f3675",
   "metadata": {},
   "outputs": [],
   "source": [
    "def insertData2SQL(data_dict, table_name, driver):\n",
    "    df_data = pd.DataFrame.from_records(data_dict)\n",
    "    try:\n",
    "        response = df_data.to_sql(table_name, driver, index=False, if_exists='append')\n",
    "        print(f'Se han insertado {response} nuevos registros')\n",
    "    except Exception as ex:\n",
    "        print('Error!!!', ex)"
   ]
  },
  {
   "cell_type": "markdown",
   "id": "37dba294-30b0-4439-bc36-72d3efe90f84",
   "metadata": {},
   "source": [
    "### Insertamos datos"
   ]
  },
  {
   "cell_type": "code",
   "execution_count": null,
   "id": "1657380d-2661-4fbd-9fdc-4978f8813455",
   "metadata": {},
   "outputs": [],
   "source": [
    "data_categoria = [\n",
    "    {'idcategoria': 1001, 'nombre': 'Furniture', 'descripcion': 'productos como muebles para oficina y casa', 'estado': 'Disponible'},\n",
    "    {'idcategoria': 1002, 'nombre': 'Toy', 'descripcion': 'conjunto de productos para diversion', 'estado': 'Disponible'}\n",
    "    {'idcategoria': 1003, 'nombre': 'Health', 'descripcion': 'productos utilizados para la salud', 'estado': 'Disponible'}\n",
    "    {'idcategoria': 2106, 'nombre': 'Car', 'descripcion': 'productos para vehiculos', 'estado': 'Disponible'}\n",
    "    {'idcategoria': 2201, 'nombre': 'Electronics', 'descripcion': 'productos electronicos de todo tipo', 'estado': 'Disponible'}\n",
    "]\n",
    "\n",
    "#Insertamos los datos en la tabla categoria\n",
    "insertData2SQL(data_categoria, 'categoria', driver)"
   ]
  },
  {
   "cell_type": "code",
   "execution_count": null,
   "id": "32420a4d-92e5-4bca-917f-c3325ae07b27",
   "metadata": {},
   "outputs": [],
   "source": [
    "data_rol = "
   ]
  }
 ],
 "metadata": {
  "kernelspec": {
   "display_name": "Python 3 (ipykernel)",
   "language": "python",
   "name": "python3"
  },
  "language_info": {
   "codemirror_mode": {
    "name": "ipython",
    "version": 3
   },
   "file_extension": ".py",
   "mimetype": "text/x-python",
   "name": "python",
   "nbconvert_exporter": "python",
   "pygments_lexer": "ipython3",
   "version": "3.11.5"
  }
 },
 "nbformat": 4,
 "nbformat_minor": 5
}
