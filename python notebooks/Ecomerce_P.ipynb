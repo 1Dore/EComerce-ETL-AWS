{
 "cells": [
  {
   "cell_type": "code",
   "execution_count": null,
   "id": "6fa1eccd-ea14-4de4-ae18-b5620ff2df2c",
   "metadata": {},
   "outputs": [],
   "source": [
    "import pandas as pd\n",
    "import numpy as np\n",
    "import boto3\n",
    "import configparser\n",
    "import psycopg2"
   ]
  },
  {
   "cell_type": "markdown",
   "id": "d341a5b6-b245-45fa-b663-97b905787a0b",
   "metadata": {},
   "source": [
    "# Leemos archivo de configuración y credenciales"
   ]
  },
  {
   "cell_type": "code",
   "execution_count": null,
   "id": "b91320d2-0cd5-4915-9178-f97c1ce5765a",
   "metadata": {},
   "outputs": [],
   "source": [
    "config = configparser.ConfigParser()\n",
    "config.read('config_P.cfg')"
   ]
  },
  {
   "cell_type": "code",
   "execution_count": null,
   "id": "bb05d65c-c8dc-4f3a-8a16-d492bcb9ffd1",
   "metadata": {},
   "outputs": [],
   "source": [
    "aws_rds_conn = boto3.client('rds', aws_access_key_id=config.get('IAM', 'ACCESS_KEY'),\n",
    "                            aws_secret_access_key=config.get('IAM', 'SECRET_KEY'),\n",
    "                            region_name='us-east-2')"
   ]
  },
  {
   "cell_type": "markdown",
   "id": "9f88c6a4-0ebd-495a-8f22-bcef7cdd6d17",
   "metadata": {},
   "source": [
    "### Verificamo instancias disponibles para el usuario"
   ]
  },
  {
   "cell_type": "code",
   "execution_count": null,
   "id": "5c8e4732-8517-4a62-91a7-585dcfd56cba",
   "metadata": {},
   "outputs": [],
   "source": [
    "rds_instances_ids = []\n",
    "\n",
    "aws_response = aws_rds_conn.describe_db_instances()\n",
    "\n",
    "for item in aws_response['DBInstances']:\n",
    "    rds_instances_ids.append(item['DBInstanceIdentifier'])\n",
    "    \n",
    "print(f\"Instancias disponibles: {rds_instances_ids}\")"
   ]
  },
  {
   "cell_type": "markdown",
   "id": "b39c5c6b-347e-42e1-8844-a1e4cb2906c1",
   "metadata": {},
   "source": [
    "### Creamos instancia de base de datos en AWS - Postgres"
   ]
  },
  {
   "cell_type": "code",
   "execution_count": null,
   "id": "48fceaa6-e856-4161-9a7a-0bfba3cc98c0",
   "metadata": {},
   "outputs": [],
   "source": [
    "try:\n",
    "    response = aws_rds_conn.create_db_instance(\n",
    "                            DBInstanceIdentifier=config.get('ECOMERCE', 'DB_INSTANCE_ID'),\n",
    "                            DBName=config.get('ECOMERCE', 'DB_NAME'),\n",
    "                            MasterUsername=config.get('ECOMERCE', 'DB_USERNAME'),\n",
    "                            MasterUserPassword=config.get('ECOMERCE', 'DB_PASSWORD'),\n",
    "                            Port=int(config.get('ECOMERCE', 'DB_PORT')),\n",
    "                            DBInstanceClass='db.t3.micro',\n",
    "                            Engine='postgres',\n",
    "                            PubliclyAccessible=True,\n",
    "                            AllocatedStorage=20,\n",
    "                            VpcSecurityGroupIds=[config.get('VPC', 'SECURITY_GROUP')]\n",
    "                        )\n",
    "    print(response)\n",
    "except aws_rds_conn.exceptions.DBInstanceAlreadyExistsFault:\n",
    "    print('La instancia ya existe')\n",
    "except Exception as ex:\n",
    "    print('Error!!!', ex)"
   ]
  },
  {
   "cell_type": "markdown",
   "id": "490b4b1c-59b0-4c5c-b789-17c1c020c45d",
   "metadata": {},
   "source": [
    "### Obtenemos el hostname de la instancia"
   ]
  },
  {
   "cell_type": "code",
   "execution_count": null,
   "id": "7976c9e9-daf9-467f-8c2f-2407a89e2ffa",
   "metadata": {},
   "outputs": [],
   "source": [
    "try: \n",
    "    instance = aws_rds_conn.describe_db_instances(DBInstanceIdentifier=config.get('ECOMERCE','DB_INSTANCE_ID'))\n",
    "    RDS_HOSTNAME = instance.get('DBInstances')[0].get('Endpoint').get('Address')\n",
    "    print(RDS_HOSTNAME)\n",
    "except Exception as ex:\n",
    "    print('Error!!!',ex)"
   ]
  },
  {
   "cell_type": "markdown",
   "id": "89372351-2aad-4913-add3-46fbf1652e62",
   "metadata": {},
   "source": [
    "### Nos conectamos a la base de datos y creamos las tablas"
   ]
  },
  {
   "cell_type": "code",
   "execution_count": null,
   "id": "6b6af281-1be6-43e0-aa4a-d6d52e868a91",
   "metadata": {},
   "outputs": [],
   "source": [
    "import sql_queries_P"
   ]
  },
  {
   "cell_type": "code",
   "execution_count": null,
   "id": "288b4654-ac32-485b-8b93-b5f00faef3b4",
   "metadata": {},
   "outputs": [],
   "source": [
    "try:\n",
    "    db_pg_conn = psycopg2.connect(\n",
    "                        database=config.get('ECOMERCE', 'DB_NAME'),\n",
    "                        user=config.get('ECOMERCE', 'DB_USERNAME'),\n",
    "                        password=config.get('ECOMERCE', 'DB_PASSWORD'),\n",
    "                        port=config.get('ECOMERCE', 'DB_PORT'),\n",
    "                        host=RDS_HOSTNAME)\n",
    "    cursor = db_pg_conn.cursor()\n",
    "    cursor.execute(sql_queries_P.DDL_QUERY)\n",
    "    db_pg_conn.commit()\n",
    "except Exception as ex:\n",
    "    print('Error!!!!', ex)"
   ]
  }
 ],
 "metadata": {
  "kernelspec": {
   "display_name": "Python 3 (ipykernel)",
   "language": "python",
   "name": "python3"
  },
  "language_info": {
   "codemirror_mode": {
    "name": "ipython",
    "version": 3
   },
   "file_extension": ".py",
   "mimetype": "text/x-python",
   "name": "python",
   "nbconvert_exporter": "python",
   "pygments_lexer": "ipython3",
   "version": "3.11.5"
  }
 },
 "nbformat": 4,
 "nbformat_minor": 5
}
