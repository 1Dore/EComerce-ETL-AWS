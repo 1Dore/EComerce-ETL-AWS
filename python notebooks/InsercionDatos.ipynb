{
 "cells": [
  {
   "cell_type": "markdown",
   "id": "e265013e-ca59-4483-9bd8-f8309a9ce6be",
   "metadata": {},
   "source": [
    "### Insertamos datos"
   ]
  },
  {
   "cell_type": "code",
   "execution_count": 1,
   "id": "f2a78892-801e-417c-95ef-7e160802c623",
   "metadata": {
    "tags": []
   },
   "outputs": [
    {
     "ename": "SyntaxError",
     "evalue": "invalid syntax. Perhaps you forgot a comma? (201604608.py, line 3)",
     "output_type": "error",
     "traceback": [
      "\u001b[0;36m  Cell \u001b[0;32mIn[1], line 3\u001b[0;36m\u001b[0m\n\u001b[0;31m    {'idcategoria': 1002, 'nombre': 'Toy', 'descripcion': 'conjunto de productos para diversion', 'estado': 'Disponible'}\u001b[0m\n\u001b[0m    ^\u001b[0m\n\u001b[0;31mSyntaxError\u001b[0m\u001b[0;31m:\u001b[0m invalid syntax. Perhaps you forgot a comma?\n"
     ]
    }
   ],
   "source": [
    "data_categoria = [\n",
    "    {'idcategoria': 1001, 'nombre': 'Furniture', 'descripcion': 'productos como muebles para oficina y casa', 'estado': 'Disponible'},\n",
    "    {'idcategoria': 1002, 'nombre': 'Toy', 'descripcion': 'conjunto de productos para diversion', 'estado': 'Disponible'}\n",
    "    {'idcategoria': 1003, 'nombre': 'Health', 'descripcion': 'productos utilizados para la salud', 'estado': 'Disponible'}\n",
    "    {'idcategoria': 2106, 'nombre': 'Car', 'descripcion': 'productos para vehiculos', 'estado': 'Disponible'}\n",
    "    {'idcategoria': 2201, 'nombre': 'Electronics', 'descripcion': 'productos electronicos de todo tipo', 'estado': 'Disponible'}\n",
    "]\n",
    "\n",
    "#Insertamos los datos en la tabla categoria\n",
    "insertData2SQL(data_categoria, 'categoria', driver)"
   ]
  },
  {
   "cell_type": "code",
   "execution_count": null,
   "id": "5531702a-e69d-4c9b-aaec-fa7342a489d1",
   "metadata": {},
   "outputs": [],
   "source": [
    "data_rol = "
   ]
  }
 ],
 "metadata": {
  "kernelspec": {
   "display_name": "Python 3 (ipykernel)",
   "language": "python",
   "name": "python3"
  },
  "language_info": {
   "codemirror_mode": {
    "name": "ipython",
    "version": 3
   },
   "file_extension": ".py",
   "mimetype": "text/x-python",
   "name": "python",
   "nbconvert_exporter": "python",
   "pygments_lexer": "ipython3",
   "version": "3.11.5"
  }
 },
 "nbformat": 4,
 "nbformat_minor": 5
}
