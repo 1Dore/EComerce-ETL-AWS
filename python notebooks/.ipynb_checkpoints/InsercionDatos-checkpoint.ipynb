{
 "cells": [
  {
   "cell_type": "markdown",
   "id": "e265013e-ca59-4483-9bd8-f8309a9ce6be",
   "metadata": {},
   "source": [
    "### Insertamos datos"
   ]
  },
  {
   "cell_type": "code",
   "execution_count": 16,
   "id": "157b28ac-40d6-4e94-88b1-1d1b744bb6e1",
   "metadata": {
    "tags": []
   },
   "outputs": [],
   "source": [
    "import pandas as pd\n",
    "import numpy as np\n",
    "import boto3\n",
    "import configparser\n",
    "import psycopg2"
   ]
  },
  {
   "cell_type": "code",
   "execution_count": 18,
   "id": "9392d9f8-ab59-49cd-a77b-00a1ac739b6c",
   "metadata": {
    "tags": []
   },
   "outputs": [
    {
     "data": {
      "text/plain": [
       "['config_P.cfg']"
      ]
     },
     "execution_count": 18,
     "metadata": {},
     "output_type": "execute_result"
    }
   ],
   "source": [
    "config = configparser.ConfigParser()\n",
    "config.read('config_P.cfg')"
   ]
  },
  {
   "cell_type": "code",
   "execution_count": 20,
   "id": "4e8715fb-ce1c-4292-917f-6368c75d49fe",
   "metadata": {
    "tags": []
   },
   "outputs": [
    {
     "name": "stdout",
     "output_type": "stream",
     "text": [
      "Error!!! name 'aws_rds_conn' is not defined\n"
     ]
    }
   ],
   "source": [
    "try: \n",
    "    instance = aws_rds_conn.describe_db_instances(DBInstanceIdentifier=config.get('ECOMERCE','DB_INSTANCE_ID'))\n",
    "    RDS_HOSTNAME = instance.get('DBInstances')[0].get('Endpoint').get('Address')\n",
    "    print(RDS_HOSTNAME)\n",
    "except Exception as ex:\n",
    "    print('Error!!!',ex)"
   ]
  },
  {
   "cell_type": "code",
   "execution_count": 19,
   "id": "6eabff1a-34bc-4322-b0bd-fcf15a936a53",
   "metadata": {
    "tags": []
   },
   "outputs": [
    {
     "ename": "NameError",
     "evalue": "name 'RDS_HOSTNAME' is not defined",
     "output_type": "error",
     "traceback": [
      "\u001b[0;31m---------------------------------------------------------------------------\u001b[0m",
      "\u001b[0;31mNameError\u001b[0m                                 Traceback (most recent call last)",
      "Cell \u001b[0;32mIn[19], line 1\u001b[0m\n\u001b[0;32m----> 1\u001b[0m driver \u001b[38;5;241m=\u001b[39m \u001b[38;5;124mf\u001b[39m\u001b[38;5;124m\"\"\"\u001b[39m\u001b[38;5;124mpostgresql://\u001b[39m\u001b[38;5;132;01m{\u001b[39;00mconfig\u001b[38;5;241m.\u001b[39mget(\u001b[38;5;124m'\u001b[39m\u001b[38;5;124mECOMERCE\u001b[39m\u001b[38;5;124m'\u001b[39m,\u001b[38;5;250m \u001b[39m\u001b[38;5;124m'\u001b[39m\u001b[38;5;124mDB_USERNAME\u001b[39m\u001b[38;5;124m'\u001b[39m)\u001b[38;5;132;01m}\u001b[39;00m\u001b[38;5;124m:\u001b[39m\u001b[38;5;132;01m{\u001b[39;00mconfig\u001b[38;5;241m.\u001b[39mget(\u001b[38;5;124m'\u001b[39m\u001b[38;5;124mECOMERCE\u001b[39m\u001b[38;5;124m'\u001b[39m,\u001b[38;5;250m \u001b[39m\u001b[38;5;124m'\u001b[39m\u001b[38;5;124mDB_PASSWORD\u001b[39m\u001b[38;5;124m'\u001b[39m)\u001b[38;5;132;01m}\u001b[39;00m\u001b[38;5;124m@\u001b[39m\u001b[38;5;132;01m{\u001b[39;00mRDS_HOSTNAME\u001b[38;5;132;01m}\u001b[39;00m\u001b[38;5;124m:\u001b[39m\u001b[38;5;132;01m{\u001b[39;00mconfig\u001b[38;5;241m.\u001b[39mget(\u001b[38;5;124m'\u001b[39m\u001b[38;5;124mECOMERCE\u001b[39m\u001b[38;5;124m'\u001b[39m,\u001b[38;5;250m \u001b[39m\u001b[38;5;124m'\u001b[39m\u001b[38;5;124mDB_PORT\u001b[39m\u001b[38;5;124m'\u001b[39m)\u001b[38;5;132;01m}\u001b[39;00m\u001b[38;5;124m/\u001b[39m\u001b[38;5;132;01m{\u001b[39;00mconfig\u001b[38;5;241m.\u001b[39mget(\u001b[38;5;124m'\u001b[39m\u001b[38;5;124mECOMERCE\u001b[39m\u001b[38;5;124m'\u001b[39m,\u001b[38;5;250m \u001b[39m\u001b[38;5;124m'\u001b[39m\u001b[38;5;124mDB_NAME\u001b[39m\u001b[38;5;124m'\u001b[39m)\u001b[38;5;132;01m}\u001b[39;00m\u001b[38;5;124m\"\"\"\u001b[39m\n\u001b[1;32m      2\u001b[0m driver\n",
      "\u001b[0;31mNameError\u001b[0m: name 'RDS_HOSTNAME' is not defined"
     ]
    }
   ],
   "source": [
    "driver = f\"\"\"postgresql://{config.get('ECOMERCE', 'DB_USERNAME')}:{config.get('ECOMERCE', 'DB_PASSWORD')}@{RDS_HOSTNAME}:{config.get('ECOMERCE', 'DB_PORT')}/{config.get('ECOMERCE', 'DB_NAME')}\"\"\"\n",
    "driver"
   ]
  },
  {
   "cell_type": "code",
   "execution_count": 11,
   "id": "53d3676b-7603-4f16-bff1-0a17d3f3e045",
   "metadata": {
    "tags": []
   },
   "outputs": [],
   "source": [
    "def insertData2SQL(data_dict, table_name, driver):\n",
    "    df_data = pd.DataFrame.from_records(data_dict)\n",
    "    try:\n",
    "        response = df_data.to_sql(table_name, driver, index=False, if_exists='append')\n",
    "        print(f'Se han insertado {response} nuevos registros')\n",
    "    except Exception as ex:\n",
    "        print('Error!!!', ex)"
   ]
  },
  {
   "cell_type": "code",
   "execution_count": 12,
   "id": "f2a78892-801e-417c-95ef-7e160802c623",
   "metadata": {
    "tags": []
   },
   "outputs": [
    {
     "ename": "NameError",
     "evalue": "name 'driver' is not defined",
     "output_type": "error",
     "traceback": [
      "\u001b[0;31m---------------------------------------------------------------------------\u001b[0m",
      "\u001b[0;31mNameError\u001b[0m                                 Traceback (most recent call last)",
      "Cell \u001b[0;32mIn[12], line 10\u001b[0m\n\u001b[1;32m      1\u001b[0m data_categoria \u001b[38;5;241m=\u001b[39m [\n\u001b[1;32m      2\u001b[0m     {\u001b[38;5;124m'\u001b[39m\u001b[38;5;124midcategoria\u001b[39m\u001b[38;5;124m'\u001b[39m: \u001b[38;5;241m1001\u001b[39m, \u001b[38;5;124m'\u001b[39m\u001b[38;5;124mnombre\u001b[39m\u001b[38;5;124m'\u001b[39m: \u001b[38;5;124m'\u001b[39m\u001b[38;5;124mFurniture\u001b[39m\u001b[38;5;124m'\u001b[39m, \u001b[38;5;124m'\u001b[39m\u001b[38;5;124mdescripcion\u001b[39m\u001b[38;5;124m'\u001b[39m: \u001b[38;5;124m'\u001b[39m\u001b[38;5;124mproductos como muebles para oficina y casa\u001b[39m\u001b[38;5;124m'\u001b[39m, \u001b[38;5;124m'\u001b[39m\u001b[38;5;124mestado\u001b[39m\u001b[38;5;124m'\u001b[39m: \u001b[38;5;124m'\u001b[39m\u001b[38;5;124mDisponible\u001b[39m\u001b[38;5;124m'\u001b[39m},\n\u001b[1;32m      3\u001b[0m     {\u001b[38;5;124m'\u001b[39m\u001b[38;5;124midcategoria\u001b[39m\u001b[38;5;124m'\u001b[39m: \u001b[38;5;241m1002\u001b[39m, \u001b[38;5;124m'\u001b[39m\u001b[38;5;124mnombre\u001b[39m\u001b[38;5;124m'\u001b[39m: \u001b[38;5;124m'\u001b[39m\u001b[38;5;124mToy\u001b[39m\u001b[38;5;124m'\u001b[39m, \u001b[38;5;124m'\u001b[39m\u001b[38;5;124mdescripcion\u001b[39m\u001b[38;5;124m'\u001b[39m: \u001b[38;5;124m'\u001b[39m\u001b[38;5;124mconjunto de productos para diversion\u001b[39m\u001b[38;5;124m'\u001b[39m, \u001b[38;5;124m'\u001b[39m\u001b[38;5;124mestado\u001b[39m\u001b[38;5;124m'\u001b[39m: \u001b[38;5;124m'\u001b[39m\u001b[38;5;124mDisponible\u001b[39m\u001b[38;5;124m'\u001b[39m},\n\u001b[0;32m   (...)\u001b[0m\n\u001b[1;32m      6\u001b[0m     {\u001b[38;5;124m'\u001b[39m\u001b[38;5;124midcategoria\u001b[39m\u001b[38;5;124m'\u001b[39m: \u001b[38;5;241m2201\u001b[39m, \u001b[38;5;124m'\u001b[39m\u001b[38;5;124mnombre\u001b[39m\u001b[38;5;124m'\u001b[39m: \u001b[38;5;124m'\u001b[39m\u001b[38;5;124mElectronics\u001b[39m\u001b[38;5;124m'\u001b[39m, \u001b[38;5;124m'\u001b[39m\u001b[38;5;124mdescripcion\u001b[39m\u001b[38;5;124m'\u001b[39m: \u001b[38;5;124m'\u001b[39m\u001b[38;5;124mproductos electronicos de todo tipo\u001b[39m\u001b[38;5;124m'\u001b[39m, \u001b[38;5;124m'\u001b[39m\u001b[38;5;124mestado\u001b[39m\u001b[38;5;124m'\u001b[39m: \u001b[38;5;124m'\u001b[39m\u001b[38;5;124mDisponible\u001b[39m\u001b[38;5;124m'\u001b[39m},\n\u001b[1;32m      7\u001b[0m ]\n\u001b[1;32m      9\u001b[0m \u001b[38;5;66;03m#Insertamos los datos en la tabla categoria\u001b[39;00m\n\u001b[0;32m---> 10\u001b[0m insertData2SQL(data_categoria, \u001b[38;5;124m'\u001b[39m\u001b[38;5;124mcategoria\u001b[39m\u001b[38;5;124m'\u001b[39m, driver)\n",
      "\u001b[0;31mNameError\u001b[0m: name 'driver' is not defined"
     ]
    }
   ],
   "source": [
    "data_categoria = [\n",
    "    {'idcategoria': 1001, 'nombre': 'Furniture', 'descripcion': 'productos como muebles para oficina y casa', 'estado': 'Disponible'},\n",
    "    {'idcategoria': 1002, 'nombre': 'Toy', 'descripcion': 'conjunto de productos para diversion', 'estado': 'Disponible'},\n",
    "    {'idcategoria': 1003, 'nombre': 'Health', 'descripcion': 'productos utilizados para la salud', 'estado': 'Disponible'},\n",
    "    {'idcategoria': 2106, 'nombre': 'Car', 'descripcion': 'productos para vehiculos', 'estado': 'Disponible'},\n",
    "    {'idcategoria': 2201, 'nombre': 'Electronics', 'descripcion': 'productos electronicos de todo tipo', 'estado': 'Disponible'},\n",
    "]\n",
    "\n",
    "#Insertamos los datos en la tabla categoria\n",
    "insertData2SQL(data_categoria, 'categoria', driver)"
   ]
  },
  {
   "cell_type": "code",
   "execution_count": null,
   "id": "5531702a-e69d-4c9b-aaec-fa7342a489d1",
   "metadata": {},
   "outputs": [],
   "source": [
    "data_rol = [\n",
    "    {'nombre': 'Ventas', 'descripción': 'Departamento encargado de la comercialización', 'estado': 'Activo'},\n",
    "    {'nombre': 'Contabilidad', 'descripción': 'Departamento encargado de las finanzas', 'estado': 'Activo'},\n",
    "    {'nombre': 'Limpieza', 'descripción': 'Departamento encargado del aseo', 'estado': 'Activo'},\n",
    "    {'nombre': 'Gerente', 'descripción': 'Encargado de Departamento', 'estado': 'Activo'},\n",
    "    {'nombre': 'Dueño', 'descripción': 'Propietario del negocio', 'estado': 'Activo'},\n",
    "]\n",
    "\n",
    "#Insertamos los datos en la tabla rol\n",
    "insertData2SQL(data_rol, 'rol', driver)"
   ]
  },
  {
   "cell_type": "code",
   "execution_count": null,
   "id": "7dc88f60-5291-427a-ab83-34b90494d25e",
   "metadata": {},
   "outputs": [],
   "source": []
  },
  {
   "cell_type": "code",
   "execution_count": 5,
   "id": "d9ca05bc-8abf-4f80-9c56-1cfa0e0fca2e",
   "metadata": {
    "tags": []
   },
   "outputs": [],
   "source": [
    "from faker import Faker"
   ]
  },
  {
   "cell_type": "code",
   "execution_count": 8,
   "id": "a07c9fc7-487d-4c88-bd1a-644248b8d2f8",
   "metadata": {
    "tags": []
   },
   "outputs": [],
   "source": [
    "fake = Faker()"
   ]
  },
  {
   "cell_type": "code",
   "execution_count": 10,
   "id": "882f5ea7-728a-43d4-bb8d-12932aa6c84c",
   "metadata": {
    "tags": []
   },
   "outputs": [],
   "source": [
    "cantidad_cliente = 100"
   ]
  },
  {
   "cell_type": "code",
   "execution_count": 33,
   "id": "b3257e7f-18b8-4979-b541-d0f86ecd5e3f",
   "metadata": {
    "tags": []
   },
   "outputs": [],
   "source": [
    "personas = []\n",
    "\n",
    "for _ in range(100):\n",
    "    data_cliente = {\n",
    "        'tipo_persona': fake.random_element(['MUJER', 'HOMBRE']),\n",
    "        'nombre': fake.name(),\n",
    "        'tipo_documento': fake.random_element(['DNI', 'Pasaporte']),\n",
    "        'num_documento': fake.random_number(digits=17),\n",
    "        'direccion': fake.address(),\n",
    "        'telefono': fake.phone_number(),\n",
    "        'email': fake.email()\n",
    "    }\n",
    "    personas.append(data_cliente)\n",
    "\n",
    "#Insertamos los datos en la tabla categoria\n",
    "insertData2SQL(personas, 'personas', driver)"
   ]
  },
  {
   "cell_type": "code",
   "execution_count": 34,
   "id": "103cd5b9-acac-4618-bd7f-d3c0b692bd3d",
   "metadata": {
    "tags": []
   },
   "outputs": [
    {
     "name": "stdout",
     "output_type": "stream",
     "text": [
      "Collecting faker-commerce\n",
      "  Obtaining dependency information for faker-commerce from https://files.pythonhosted.org/packages/6c/7b/f6d3f054a77ea48caaec8170bceac71c0aec54d94729b9f66ebd1fcc8fe1/faker_commerce-1.0.4-py3-none-any.whl.metadata\n",
      "  Downloading faker_commerce-1.0.4-py3-none-any.whl.metadata (790 bytes)\n",
      "Requirement already satisfied: faker in /Users/diegoalvarez/anaconda3/lib/python3.11/site-packages (from faker-commerce) (24.3.0)\n",
      "Requirement already satisfied: python-dateutil>=2.4 in /Users/diegoalvarez/anaconda3/lib/python3.11/site-packages (from faker->faker-commerce) (2.8.2)\n",
      "Requirement already satisfied: six>=1.5 in /Users/diegoalvarez/anaconda3/lib/python3.11/site-packages (from python-dateutil>=2.4->faker->faker-commerce) (1.16.0)\n",
      "Downloading faker_commerce-1.0.4-py3-none-any.whl (3.3 kB)\n",
      "Installing collected packages: faker-commerce\n",
      "Successfully installed faker-commerce-1.0.4\n",
      "Note: you may need to restart the kernel to use updated packages.\n"
     ]
    }
   ],
   "source": [
    "pip install faker-commerce"
   ]
  },
  {
   "cell_type": "code",
   "execution_count": null,
   "id": "32e34b02-ae9e-485e-bdeb-a4bb00b32aff",
   "metadata": {},
   "outputs": [],
   "source": [
    "articulos = []\n",
    "idcategoria_list = np.random.choice([1, 2, 3, 4, 5], size=10).tolist()\n",
    "idcategoria_list.append(5)\n",
    "idcategoria_list.append(5)\n",
    "\n",
    "for _ in range(12):\n",
    "    articulo = {\n",
    "        'idrol': idrol_list.pop(0),\n",
    "        'nombre': fake.name(),\n",
    "        'tipo_documento': fake.random_element(['DPI', 'Pasaporte']),\n",
    "        'num_documento': fake.random_number(digits=17),\n",
    "        'direccion': fake.address(),\n",
    "        'telefono': fake.numerify(text='0' * 20),\n",
    "        'email': fake.email(),\n",
    "        'clave': secrets.token_bytes(16),\n",
    "        'estado': fake.random_element([True, False])\n",
    "    }\n",
    "    usuarios.append(articulo)"
   ]
  }
 ],
 "metadata": {
  "kernelspec": {
   "display_name": "Python 3 (ipykernel)",
   "language": "python",
   "name": "python3"
  },
  "language_info": {
   "codemirror_mode": {
    "name": "ipython",
    "version": 3
   },
   "file_extension": ".py",
   "mimetype": "text/x-python",
   "name": "python",
   "nbconvert_exporter": "python",
   "pygments_lexer": "ipython3",
   "version": "3.11.5"
  }
 },
 "nbformat": 4,
 "nbformat_minor": 5
}
