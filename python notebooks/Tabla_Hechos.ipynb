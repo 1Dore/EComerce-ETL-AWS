{
 "cells": [
  {
   "cell_type": "markdown",
   "metadata": {},
   "source": [
    "# Imports"
   ]
  },
  {
   "cell_type": "markdown",
   "metadata": {},
   "source": [
    "# Creacion Base de Datos - MySql"
   ]
  },
  {
   "cell_type": "code",
   "execution_count": 2,
   "metadata": {},
   "outputs": [],
   "source": [
    "import boto3\n",
    "import pandas as pd\n",
    "import numpy as np\n",
    "import configparser\n",
    "import psycopg2\n"
   ]
  },
  {
   "cell_type": "markdown",
   "metadata": {},
   "source": [
    "## Leemos archivo de Configuracion y credenciales"
   ]
  },
  {
   "cell_type": "code",
   "execution_count": 15,
   "metadata": {},
   "outputs": [
    {
     "data": {
      "text/plain": [
       "['config.cfg']"
      ]
     },
     "execution_count": 15,
     "metadata": {},
     "output_type": "execute_result"
    }
   ],
   "source": [
    "config = configparser.ConfigParser()\n",
    "config.read(\"config.cfg\")  "
   ]
  },
  {
   "cell_type": "code",
   "execution_count": 18,
   "metadata": {},
   "outputs": [],
   "source": [
    "aws_rds_conn = boto3.client('rds', aws_access_key_id=config.get('IAM', 'ACCESS_KEY'),\n",
    "                            aws_secret_access_key=config.get('IAM', 'SECRET_KEY'),\n",
    "                            region_name=\"us-east-2\")"
   ]
  },
  {
   "cell_type": "code",
   "execution_count": 19,
   "metadata": {},
   "outputs": [
    {
     "name": "stdout",
     "output_type": "stream",
     "text": [
      "intancias disponibles: ['ecomercedb', 'hechosdbproject']\n"
     ]
    }
   ],
   "source": [
    "rds_intance_ids = []\n",
    "\n",
    "aws_response = aws_rds_conn.describe_db_instances()\n",
    "\n",
    "for response in aws_response['DBInstances']:\n",
    "    rds_intance_ids.append(response['DBInstanceIdentifier'])\n",
    "    \n",
    "print(f\"intancias disponibles: {rds_intance_ids}\")"
   ]
  },
  {
   "cell_type": "markdown",
   "metadata": {},
   "source": [
    "## Creamos instancia de DB - MySql"
   ]
  },
  {
   "cell_type": "code",
   "execution_count": 20,
   "metadata": {},
   "outputs": [
    {
     "name": "stdout",
     "output_type": "stream",
     "text": [
      "La instancia ya existe\n"
     ]
    }
   ],
   "source": [
    "try:\n",
    "\n",
    "    response = aws_rds_conn.create_db_instance(\n",
    "                                                DBInstanceIdentifier=config.get('HECHOS', 'DB_INSTANCE_ID'),\n",
    "                                                DBName=config.get('HECHOS', 'DB_NAME'),\n",
    "                                                MasterUsername=config.get('HECHOS', 'DB_USERNAME'),\n",
    "                                                MasterUserPassword=config.get('HECHOS', 'DB_PASSWORD'),\n",
    "                                                Port=int(config.get('HECHOS', 'DB_PORT')),\n",
    "                                                DBInstanceClass='db.t3.micro',\n",
    "                                                Engine='mysql',\n",
    "                                                PubliclyAccessible=True,\n",
    "                                                AllocatedStorage=20,\n",
    "                                                VpcSecurityGroupIds=[config.get('VPC', 'SECURITY_GROUP')]\n",
    "                                                                        \n",
    "    )\n",
    "except aws_rds_conn.exceptions.DBInstanceAlreadyExistsFault:\n",
    "    print(\"La instancia ya existe\")\n",
    "    \n",
    "except Exception as e:\n",
    "    print(\"Error:\", e)"
   ]
  },
  {
   "cell_type": "markdown",
   "metadata": {},
   "source": [
    "## Instancia"
   ]
  },
  {
   "cell_type": "code",
   "execution_count": 21,
   "metadata": {},
   "outputs": [
    {
     "name": "stdout",
     "output_type": "stream",
     "text": [
      "hechosdbproject.ctiwauocyj1r.us-east-2.rds.amazonaws.com\n"
     ]
    }
   ],
   "source": [
    "try:\n",
    "    instance = aws_rds_conn.describe_db_instances(DBInstanceIdentifier = config.get('HECHOS', 'DB_INSTANCE_ID'))\n",
    "\n",
    "    RDS_HOSTNAME = instance.get('DBInstances')[0].get('Endpoint').get('Address')\n",
    "    print(RDS_HOSTNAME)\n",
    "    \n",
    "except Exception as e:\n",
    "    print(\"Error:\", e)"
   ]
  },
  {
   "cell_type": "markdown",
   "metadata": {},
   "source": [
    "## Queries\n",
    "    "
   ]
  },
  {
   "cell_type": "code",
   "execution_count": 22,
   "metadata": {},
   "outputs": [
    {
     "data": {
      "text/plain": [
       "'-- base de datos hecha en mysql\\n\\ncreate table Tiempo (\\n\\n    idfecha int primary key,\\n    fecha_completa DateTime,\\n    fecha_dia_semana int,\\n    fehca_dia_mes int,\\n    dia_nombre varchar(10),\\n    semana_fin_bandera varchar(13), -- entre semana, fin de semana\\n    semana_ano int,\\n    dia_semana_inicio datetime,\\n    mes int,\\n    mes_nombre varchar(10),\\n    cuarto int,\\n    mes_fiscal int,\\n    cuarto_fiscal int,\\n    ano_fiscal int,\\n    mes_fin_bandera varchar(13), -- fin de mes, mes\\n\\n);\\n\\nCREATE TABLE Usuario (\\n\\n    idusuario int,\\n    idrol int,\\n    nombre varchar(100),\\n    tipo_documento varchar(20),\\n    num_documento varchar(20),\\n    direccion varchar(20),\\n    telefono varchar(20),\\n    clave varbinary(MAX),\\n    estado bit,\\n    rol_nombre varchar(30)\\n\\n);\\n\\nCREATE TABLE Articulo (\\n\\n    idarticulo int,\\n    nombre_categoria varchar(30),\\n    codigo varchar(50),\\n    nombre varchar(100),\\n    precio_venta decimal(11,2),\\n    stock INT\\n\\n);\\n\\nCREATE TABLE Persona (\\n\\n    idpersona int,\\n    tipo_persona varchar(20),\\n    nombre varchar(100),\\n    tipo_documento varchar(20),\\n    num_documento varchar(20),\\n    direccion varchar (50),\\n    telefono varchar(15),\\n    email varchar(100),\\n    \\n);\\n\\n\\nCreate Table Ventas (\\n\\n    idusuario int,\\n    idarticulo int,\\n    idpersona int,\\n    idventa int,\\n    idcantidad int,\\n    precio decimal(11,2),\\n    descuento decimal(11,2),\\n    idfecha int,\\n    impuesto decimal(4,2),\\n    total decimal(11, 2),\\n    FOREIGN key (idusuario) REFERENCES Usuario (idusuario),\\n    Foreign key (idpersona) REFERENCES Persona (idpersona),\\n    Foreign key (idarticulo) REFERENCES Articulo (idarticulo),\\n    Foreign key (idfecha) REFERENCES Tiempo (idfecha)\\n\\n);'"
      ]
     },
     "execution_count": 22,
     "metadata": {},
     "output_type": "execute_result"
    }
   ],
   "source": [
    "import sql_queries_H\n",
    "sql_queries_H.DDL_QUERY"
   ]
  },
  {
   "cell_type": "code",
   "execution_count": 24,
   "metadata": {},
   "outputs": [],
   "source": [
    "try:\n",
    "    db_mysql_conn = psycopg2.connect(\n",
    "                                database = config.get('HECHOS', 'DB_NAME'),\n",
    "                                user = config.get('HECHOS', 'DB_USERNAME'),\n",
    "                                password = config.get('HECHOS', 'DB_PASSWORD'),\n",
    "                                port=int(config.get('HECHOS', 'DB_PORT')),\n",
    "                                host = RDS_HOSTNAME\n",
    "    )\n",
    "\n",
    "    cursor = db_mysql_conn.cursor()\n",
    "\n",
    "    cursor.execute(sql_queries_H.DDL_QUERY)\n",
    "\n",
    "    db_mysql_conn.commit()\n",
    "\n",
    "except Exception as e:\n",
    "    print(\"Error:\", e)"
   ]
  },
  {
   "cell_type": "markdown",
   "metadata": {},
   "source": []
  }
 ],
 "metadata": {
  "kernelspec": {
   "display_name": "Python 3",
   "language": "python",
   "name": "python3"
  },
  "language_info": {
   "codemirror_mode": {
    "name": "ipython",
    "version": 3
   },
   "file_extension": ".py",
   "mimetype": "text/x-python",
   "name": "python",
   "nbconvert_exporter": "python",
   "pygments_lexer": "ipython3",
   "version": "3.8.8"
  }
 },
 "nbformat": 4,
 "nbformat_minor": 2
}
