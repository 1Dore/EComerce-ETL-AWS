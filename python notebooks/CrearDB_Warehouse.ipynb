{
 "cells": [
  {
   "cell_type": "markdown",
   "id": "4142ae0d-eb56-48fe-9e76-480bd67a80c7",
   "metadata": {},
   "source": [
    "## NoteBook Para crear El Data Warehouse"
   ]
  },
  {
   "cell_type": "code",
   "execution_count": 1,
   "id": "61005d22-a9f8-4417-8102-32a25c606fe6",
   "metadata": {
    "tags": []
   },
   "outputs": [],
   "source": [
    "import pandas as pd\n",
    "import numpy as np\n",
    "import boto3\n",
    "import configparser\n",
    "import psycopg2\n",
    "import pymysql"
   ]
  },
  {
   "cell_type": "code",
   "execution_count": 2,
   "id": "6720f8a3-5339-4ba9-94a1-dc8fd0338ad6",
   "metadata": {
    "tags": []
   },
   "outputs": [],
   "source": [
    "import sql_queries_H"
   ]
  },
  {
   "cell_type": "code",
   "execution_count": 4,
   "id": "f5f9f08d-3d40-42a4-929f-a46f39577990",
   "metadata": {
    "tags": []
   },
   "outputs": [
    {
     "data": {
      "text/plain": [
       "['config.cfg']"
      ]
     },
     "execution_count": 4,
     "metadata": {},
     "output_type": "execute_result"
    }
   ],
   "source": [
    "config = configparser.ConfigParser()\n",
    "config.read('config.cfg')"
   ]
  },
  {
   "cell_type": "code",
   "execution_count": 5,
   "id": "c9debc2b-6a34-4920-8240-400ddb3cea86",
   "metadata": {
    "tags": []
   },
   "outputs": [],
   "source": [
    "aws_rds_conn = boto3.client('rds', aws_access_key_id=config.get('IAM', 'ACCESS_KEY'), \n",
    "                            aws_secret_access_key = config.get('IAM', 'SECRET_KEY'), region_name='us-east-2')"
   ]
  },
  {
   "cell_type": "markdown",
   "id": "44a73037-a6f4-4b3e-8abf-e22c04613a0d",
   "metadata": {},
   "source": [
    "### Verificacion de instancias disponibles para el usuario"
   ]
  },
  {
   "cell_type": "code",
   "execution_count": 6,
   "id": "1958f5ab-5bfd-4a60-95b7-019a13062e25",
   "metadata": {
    "tags": []
   },
   "outputs": [
    {
     "name": "stdout",
     "output_type": "stream",
     "text": [
      "Instancias disponibles: ['ecomercedb', 'hechosdbproject']\n"
     ]
    }
   ],
   "source": [
    "rds_instances_ids = []\n",
    "\n",
    "aws_response = aws_rds_conn.describe_db_instances()\n",
    "\n",
    "for item in aws_response['DBInstances']:\n",
    "    rds_instances_ids.append(item['DBInstanceIdentifier'])\n",
    "    \n",
    "print(f\"Instancias disponibles: {rds_instances_ids}\")"
   ]
  },
  {
   "cell_type": "markdown",
   "id": "8a2a0e8b-d062-451f-afc6-a9fdf1b2250f",
   "metadata": {},
   "source": [
    "### Creamos la base de datos"
   ]
  },
  {
   "cell_type": "code",
   "execution_count": 7,
   "id": "fc0365b2-2e63-4945-a6d8-a97f7ff6008f",
   "metadata": {
    "tags": []
   },
   "outputs": [
    {
     "name": "stdout",
     "output_type": "stream",
     "text": [
      "La instancia ya existe\n"
     ]
    }
   ],
   "source": [
    "try:\n",
    "    response = aws_rds_conn.create_db_instance(\n",
    "                            DBInstanceIdentifier=config.get('HECHOS', 'DB_INSTANCE_ID'),\n",
    "                            DBName=config.get('HECHOS', 'DB_NAME'),\n",
    "                            MasterUsername=config.get('HECHOS', 'DB_USERNAME'),\n",
    "                            MasterUserPassword=config.get('HECHOS', 'DB_PASSWORD'),\n",
    "                            Port=int(config.get('HECHOS', 'DB_PORT')),\n",
    "                            DBInstanceClass='db.t3.micro',\n",
    "                            Engine='mysql',\n",
    "                            PubliclyAccessible=True,\n",
    "                            AllocatedStorage=20,\n",
    "                            VpcSecurityGroupIds=[config.get('VPC', 'SECURITY_GROUP')]\n",
    "                        )\n",
    "    print(response)\n",
    "except aws_rds_conn.exceptions.DBInstanceAlreadyExistsFault:\n",
    "    print('La instancia ya existe')\n",
    "except Exception as ex:\n",
    "    print('Error!!!', ex)"
   ]
  },
  {
   "cell_type": "markdown",
   "id": "f6922c31-5340-4e0e-9574-a987ab34be56",
   "metadata": {},
   "source": [
    "### Obtenemos el hostname de la instancia"
   ]
  },
  {
   "cell_type": "code",
   "execution_count": 8,
   "id": "10722424-d0e0-4c2f-b100-c2274d5e9c2c",
   "metadata": {
    "tags": []
   },
   "outputs": [
    {
     "name": "stdout",
     "output_type": "stream",
     "text": [
      "hechosdbproject.ctiwauocyj1r.us-east-2.rds.amazonaws.com\n"
     ]
    }
   ],
   "source": [
    "try: \n",
    "    instance = aws_rds_conn.describe_db_instances(DBInstanceIdentifier=config.get('HECHOS','DB_INSTANCE_ID'))\n",
    "    RDS_HOSTNAME = instance.get('DBInstances')[0].get('Endpoint').get('Address')\n",
    "    print(RDS_HOSTNAME)\n",
    "except Exception as ex:\n",
    "    print('Error!!!',ex)"
   ]
  },
  {
   "cell_type": "code",
   "execution_count": 10,
   "id": "fb81102a-11ee-4371-be64-5c998a9e2e07",
   "metadata": {
    "tags": []
   },
   "outputs": [
    {
     "name": "stdout",
     "output_type": "stream",
     "text": [
      "Error!!!! (1064, \"You have an error in your SQL syntax; check the manual that corresponds to your MySQL server version for the right syntax to use near 'CREATE TABLE Usuario (\\n\\n    idusuario int primary key,\\n    idrol int,\\n    nombre' at line 18\")\n"
     ]
    }
   ],
   "source": [
    "### No funciona esta libreria, no ejecutar, dejar de evidencia\n",
    "\n",
    "try:\n",
    "    db_pg_conn = pymysql.connect(\n",
    "                        database=config.get('HECHOS', 'DB_NAME'),\n",
    "                        user=config.get('HECHOS', 'DB_USERNAME'),\n",
    "                        password=config.get('HECHOS', 'DB_PASSWORD'),\n",
    "                        port=int(config.get('HECHOS', 'DB_PORT')),\n",
    "                        host=RDS_HOSTNAME)\n",
    "    cursor = db_pg_conn.cursor()\n",
    "    cursor.execute(sql_queries_H.DDL_QUERY)\n",
    "    db_pg_conn.commit()\n",
    "except Exception as ex:\n",
    "    print('Error!!!!', ex)\n",
    "finally:\n",
    "    cursor.close()\n",
    "    db_pg_conn.close()"
   ]
  },
  {
   "cell_type": "code",
   "execution_count": 12,
   "id": "9a1dd181-b51c-48e9-b722-2cdf98dbde12",
   "metadata": {
    "tags": []
   },
   "outputs": [],
   "source": [
    "import mysql.connector"
   ]
  },
  {
   "cell_type": "code",
   "execution_count": 15,
   "id": "33a4a11c-7c43-42d2-a819-1e72edabcdf5",
   "metadata": {
    "tags": []
   },
   "outputs": [],
   "source": [
    "try:\n",
    "    cnx = mysql.connector.connect(user=config.get('HECHOS', 'DB_USERNAME'),\n",
    "                                  password=config.get('HECHOS', 'DB_PASSWORD'),\n",
    "                                  host=RDS_HOSTNAME,\n",
    "                                  database=config.get('HECHOS', 'DB_NAME'))\n",
    "\n",
    "    cursor = cnx.cursor()\n",
    "    cursor.execute(sql_queries_H.DDL_QUERY)\n",
    "except Exception as ex:\n",
    "    print('Error!!!!', ex)\n",
    "finally:\n",
    "    cursor.close()\n",
    "    cnx.close()"
   ]
  }
 ],
 "metadata": {
  "kernelspec": {
   "display_name": "Python 3 (ipykernel)",
   "language": "python",
   "name": "python3"
  },
  "language_info": {
   "codemirror_mode": {
    "name": "ipython",
    "version": 3
   },
   "file_extension": ".py",
   "mimetype": "text/x-python",
   "name": "python",
   "nbconvert_exporter": "python",
   "pygments_lexer": "ipython3",
   "version": "3.11.5"
  }
 },
 "nbformat": 4,
 "nbformat_minor": 5
}
